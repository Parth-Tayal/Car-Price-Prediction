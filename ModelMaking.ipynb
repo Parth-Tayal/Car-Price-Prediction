{
 "cells": [
  {
   "cell_type": "code",
   "execution_count": 9,
   "metadata": {},
   "outputs": [],
   "source": [
    "import numpy as np\n",
    "from sklearn.model_selection import cross_val_score\n",
    "import pandas as pd\n",
    "from sklearn.compose import ColumnTransformer\n",
    "from sklearn.preprocessing import OneHotEncoder\n",
    "from sklearn.preprocessing import OrdinalEncoder\n",
    "from sklearn.model_selection import train_test_split\n",
    "from sklearn.metrics import r2_score\n",
    "from sklearn.ensemble import RandomForestRegressor\n"
   ]
  },
  {
   "cell_type": "code",
   "execution_count": 10,
   "metadata": {},
   "outputs": [],
   "source": [
    "df=pd.read_csv(\"Cleaned_Data.csv\")"
   ]
  },
  {
   "cell_type": "code",
   "execution_count": 11,
   "metadata": {},
   "outputs": [],
   "source": [
    "X=df.drop(['Model','Location','Price','Max Power','Max Torque'],axis=1)\n",
    "Y=df['Price']"
   ]
  },
  {
   "cell_type": "code",
   "execution_count": 12,
   "metadata": {},
   "outputs": [],
   "source": [
    "trf=ColumnTransformer(transformers=[('tnf1',OneHotEncoder(drop='first',dtype=int),['Fuel Type']),\n",
    "                                    ('tnf2',OneHotEncoder(drop='first',dtype=int),['Transmission']),\n",
    "                                    ('tnf3',OrdinalEncoder(categories=[['4 or More','Fourth','Third','Second','First','UnRegistered Car']]),['Owner']),\n",
    "                                    ('tnf4',OneHotEncoder(drop='first',dtype=int),['Seller Type']),\n",
    "                                    ('tnf5',OneHotEncoder(drop='first',dtype=int),['Drivetrain']),\n",
    "                                    ('tnf6',OneHotEncoder(drop='first',dtype=int),['Color']),\n",
    "                                    ('tnf7',OneHotEncoder(drop='first',dtype=int),['Make'])],remainder='passthrough')\n",
    "X=trf.fit_transform(X)"
   ]
  },
  {
   "cell_type": "code",
   "execution_count": 13,
   "metadata": {},
   "outputs": [],
   "source": [
    "X_train, X_test, y_train, y_test = train_test_split(X, Y, test_size=0.3, random_state=32)"
   ]
  },
  {
   "cell_type": "code",
   "execution_count": 14,
   "metadata": {},
   "outputs": [],
   "source": [
    "from sklearn.preprocessing import StandardScaler\n",
    "scaler=StandardScaler(with_mean=False)\n",
    "scaler.fit(X_train)\n",
    "X_train_t=scaler.fit_transform(X_train)\n",
    "X_test_t=scaler.transform(X_test)"
   ]
  },
  {
   "cell_type": "code",
   "execution_count": 15,
   "metadata": {},
   "outputs": [
    {
     "name": "stdout",
     "output_type": "stream",
     "text": [
      "0.890279790818263\n"
     ]
    }
   ],
   "source": [
    "model=RandomForestRegressor()\n",
    "model.fit(X_train_t,y_train)\n",
    "y_pred=model.predict(X_test_t)\n",
    "print(r2_score(y_test,y_pred))"
   ]
  },
  {
   "cell_type": "code",
   "execution_count": 16,
   "metadata": {},
   "outputs": [
    {
     "name": "stdout",
     "output_type": "stream",
     "text": [
      "Cross-validation R^2 scores: [0.94435272 0.78522222 0.71311114 0.93430571 0.96431738 0.68289485\n",
      " 0.91435772 0.97131311 0.93751031 0.79318639]\n",
      "Average cross-validation R^2 score: 0.8640571557318231\n"
     ]
    }
   ],
   "source": [
    "cv_scores = cross_val_score(model, X, Y, cv=10, scoring='r2')\n",
    "print(f\"Cross-validation R^2 scores: {cv_scores}\")\n",
    "print(f\"Average cross-validation R^2 score: {np.mean(cv_scores)}\")"
   ]
  },
  {
   "cell_type": "code",
   "execution_count": null,
   "metadata": {},
   "outputs": [],
   "source": []
  }
 ],
 "metadata": {
  "kernelspec": {
   "display_name": "Python 3",
   "language": "python",
   "name": "python3"
  },
  "language_info": {
   "codemirror_mode": {
    "name": "ipython",
    "version": 3
   },
   "file_extension": ".py",
   "mimetype": "text/x-python",
   "name": "python",
   "nbconvert_exporter": "python",
   "pygments_lexer": "ipython3",
   "version": "3.10.12"
  }
 },
 "nbformat": 4,
 "nbformat_minor": 2
}
